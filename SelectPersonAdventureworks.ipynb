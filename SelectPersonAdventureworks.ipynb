{
    "metadata": {
        "kernelspec": {
            "name": "SQL",
            "display_name": "SQL",
            "language": "sql"
        },
        "language_info": {
            "name": "sql",
            "version": ""
        }
    },
    "nbformat_minor": 2,
    "nbformat": 4,
    "cells": [
        {
            "cell_type": "markdown",
            "source": [
                "SELECT statement on Person.person from Adventureworks"
            ],
            "metadata": {
                "azdata_cell_guid": "74d7c279-c00c-4312-98c0-77d4af155442"
            }
        },
        {
            "cell_type": "code",
            "source": [
                "SELECT TOP (100) [BusinessEntityID]\n",
                "      ,[PersonType]\n",
                "      ,[NameStyle]\n",
                "      ,[Title]\n",
                "      ,[FirstName]\n",
                "      ,[MiddleName]\n",
                "      ,[LastName]\n",
                "  FROM [AdventureWorks2019].[Person].[Person]"
            ],
            "metadata": {
                "azdata_cell_guid": "edea0261-4213-470f-978a-cbaa5890833e"
            },
            "outputs": [
{
    "output_type": "display_data",
    "data": {
        "text/html": "(100 rows affected)"
    },
    "metadata": {}
}, {
    "output_type": "display_data",
    "data": {
        "text/html": "Total execution time: 00:00:02.593"
    },
    "metadata": {}
}, {
    "output_type": "execute_result",
    "metadata": {},
    "execution_count": 1,
    "data": {
        "application/vnd.dataresource+json": {
            "schema": {
                "fields": [
                    {
                        "name": "BusinessEntityID"
                    },
                    {
                        "name": "PersonType"
                    },
                    {
                        "name": "NameStyle"
                    },
                    {
                        "name": "Title"
                    },
                    {
                        "name": "FirstName"
                    },
                    {
                        "name": "MiddleName"
                    },
                    {
                        "name": "LastName"
                    }
                ]
            },
            "data": [
                {
                    "0": "1",
                    "1": "EM",
                    "2": "0",
                    "3": "NULL",
                    "4": "Ken",
                    "5": "J",
                    "6": "Sánchez"
                },
                {
                    "0": "2",
                    "1": "EM",
                    "2": "0",
                    "3": "NULL",
                    "4": "Terri",
                    "5": "Lee",
                    "6": "Duffy"
                },
                {
                    "0": "3",
                    "1": "EM",
                    "2": "0",
                    "3": "NULL",
                    "4": "Roberto",
                    "5": "NULL",
                    "6": "Tamburello"
                },
                {
                    "0": "4",
                    "1": "EM",
                    "2": "0",
                    "3": "NULL",
                    "4": "Rob",
                    "5": "NULL",
                    "6": "Walters"
                },
                {
                    "0": "5",
                    "1": "EM",
                    "2": "0",
                    "3": "Ms.",
                    "4": "Gail",
                    "5": "A",
                    "6": "Erickson"
                },
                {
                    "0": "6",
                    "1": "EM",
                    "2": "0",
                    "3": "Mr.",
                    "4": "Jossef",
                    "5": "H",
                    "6": "Goldberg"
                },
                {
                    "0": "7",
                    "1": "EM",
                    "2": "0",
                    "3": "NULL",
                    "4": "Dylan",
                    "5": "A",
                    "6": "Miller"
                },
                {
                    "0": "8",
                    "1": "EM",
                    "2": "0",
                    "3": "NULL",
                    "4": "Diane",
                    "5": "L",
                    "6": "Margheim"
                },
                {
                    "0": "9",
                    "1": "EM",
                    "2": "0",
                    "3": "NULL",
                    "4": "Gigi",
                    "5": "N",
                    "6": "Matthew"
                },
                {
                    "0": "10",
                    "1": "EM",
                    "2": "0",
                    "3": "NULL",
                    "4": "Michael",
                    "5": "NULL",
                    "6": "Raheem"
                },
                {
                    "0": "11",
                    "1": "EM",
                    "2": "0",
                    "3": "NULL",
                    "4": "Ovidiu",
                    "5": "V",
                    "6": "Cracium"
                },
                {
                    "0": "12",
                    "1": "EM",
                    "2": "0",
                    "3": "NULL",
                    "4": "Thierry",
                    "5": "B",
                    "6": "D'Hers"
                },
                {
                    "0": "13",
                    "1": "EM",
                    "2": "0",
                    "3": "Ms.",
                    "4": "Janice",
                    "5": "M",
                    "6": "Galvin"
                },
                {
                    "0": "14",
                    "1": "EM",
                    "2": "0",
                    "3": "NULL",
                    "4": "Michael",
                    "5": "I",
                    "6": "Sullivan"
                },
                {
                    "0": "15",
                    "1": "EM",
                    "2": "0",
                    "3": "NULL",
                    "4": "Sharon",
                    "5": "B",
                    "6": "Salavaria"
                },
                {
                    "0": "16",
                    "1": "EM",
                    "2": "0",
                    "3": "NULL",
                    "4": "David",
                    "5": "M",
                    "6": "Bradley"
                },
                {
                    "0": "17",
                    "1": "EM",
                    "2": "0",
                    "3": "NULL",
                    "4": "Kevin",
                    "5": "F",
                    "6": "Brown"
                },
                {
                    "0": "18",
                    "1": "EM",
                    "2": "0",
                    "3": "NULL",
                    "4": "John",
                    "5": "L",
                    "6": "Wood"
                },
                {
                    "0": "19",
                    "1": "EM",
                    "2": "0",
                    "3": "NULL",
                    "4": "Mary",
                    "5": "A",
                    "6": "Dempsey"
                },
                {
                    "0": "20",
                    "1": "EM",
                    "2": "0",
                    "3": "NULL",
                    "4": "Wanida",
                    "5": "M",
                    "6": "Benshoof"
                },
                {
                    "0": "21",
                    "1": "EM",
                    "2": "0",
                    "3": "NULL",
                    "4": "Terry",
                    "5": "J",
                    "6": "Eminhizer"
                },
                {
                    "0": "22",
                    "1": "EM",
                    "2": "0",
                    "3": "NULL",
                    "4": "Sariya",
                    "5": "E",
                    "6": "Harnpadoungsataya"
                },
                {
                    "0": "23",
                    "1": "EM",
                    "2": "0",
                    "3": "NULL",
                    "4": "Mary",
                    "5": "E",
                    "6": "Gibson"
                },
                {
                    "0": "24",
                    "1": "EM",
                    "2": "0",
                    "3": "Ms.",
                    "4": "Jill",
                    "5": "A",
                    "6": "Williams"
                },
                {
                    "0": "25",
                    "1": "EM",
                    "2": "0",
                    "3": "NULL",
                    "4": "James",
                    "5": "R",
                    "6": "Hamilton"
                },
                {
                    "0": "26",
                    "1": "EM",
                    "2": "0",
                    "3": "NULL",
                    "4": "Peter",
                    "5": "J",
                    "6": "Krebs"
                },
                {
                    "0": "27",
                    "1": "EM",
                    "2": "0",
                    "3": "NULL",
                    "4": "Jo",
                    "5": "A",
                    "6": "Brown"
                },
                {
                    "0": "28",
                    "1": "EM",
                    "2": "0",
                    "3": "NULL",
                    "4": "Guy",
                    "5": "R",
                    "6": "Gilbert"
                },
                {
                    "0": "29",
                    "1": "EM",
                    "2": "0",
                    "3": "NULL",
                    "4": "Mark",
                    "5": "K",
                    "6": "McArthur"
                },
                {
                    "0": "30",
                    "1": "EM",
                    "2": "0",
                    "3": "NULL",
                    "4": "Britta",
                    "5": "L",
                    "6": "Simon"
                },
                {
                    "0": "31",
                    "1": "EM",
                    "2": "0",
                    "3": "NULL",
                    "4": "Margie",
                    "5": "W",
                    "6": "Shoop"
                },
                {
                    "0": "32",
                    "1": "EM",
                    "2": "0",
                    "3": "NULL",
                    "4": "Rebecca",
                    "5": "A",
                    "6": "Laszlo"
                },
                {
                    "0": "33",
                    "1": "EM",
                    "2": "0",
                    "3": "NULL",
                    "4": "Annik",
                    "5": "O",
                    "6": "Stahl"
                },
                {
                    "0": "34",
                    "1": "EM",
                    "2": "0",
                    "3": "NULL",
                    "4": "Suchitra",
                    "5": "O",
                    "6": "Mohan"
                },
                {
                    "0": "35",
                    "1": "EM",
                    "2": "0",
                    "3": "NULL",
                    "4": "Brandon",
                    "5": "G",
                    "6": "Heidepriem"
                },
                {
                    "0": "36",
                    "1": "EM",
                    "2": "0",
                    "3": "NULL",
                    "4": "Jose",
                    "5": "R",
                    "6": "Lugo"
                },
                {
                    "0": "37",
                    "1": "EM",
                    "2": "0",
                    "3": "NULL",
                    "4": "Chris",
                    "5": "O",
                    "6": "Okelberry"
                },
                {
                    "0": "38",
                    "1": "EM",
                    "2": "0",
                    "3": "NULL",
                    "4": "Kim",
                    "5": "B",
                    "6": "Abercrombie"
                },
                {
                    "0": "39",
                    "1": "EM",
                    "2": "0",
                    "3": "NULL",
                    "4": "Ed",
                    "5": "R",
                    "6": "Dudenhoefer"
                },
                {
                    "0": "40",
                    "1": "EM",
                    "2": "0",
                    "3": "NULL",
                    "4": "JoLynn",
                    "5": "M",
                    "6": "Dobney"
                },
                {
                    "0": "41",
                    "1": "EM",
                    "2": "0",
                    "3": "NULL",
                    "4": "Bryan",
                    "5": "NULL",
                    "6": "Baker"
                },
                {
                    "0": "42",
                    "1": "EM",
                    "2": "0",
                    "3": "NULL",
                    "4": "James",
                    "5": "D",
                    "6": "Kramer"
                },
                {
                    "0": "43",
                    "1": "EM",
                    "2": "0",
                    "3": "NULL",
                    "4": "Nancy",
                    "5": "A",
                    "6": "Anderson"
                },
                {
                    "0": "44",
                    "1": "EM",
                    "2": "0",
                    "3": "NULL",
                    "4": "Simon",
                    "5": "D",
                    "6": "Rapier"
                },
                {
                    "0": "45",
                    "1": "EM",
                    "2": "0",
                    "3": "NULL",
                    "4": "Thomas",
                    "5": "R",
                    "6": "Michaels"
                },
                {
                    "0": "46",
                    "1": "EM",
                    "2": "0",
                    "3": "NULL",
                    "4": "Eugene",
                    "5": "O",
                    "6": "Kogan"
                },
                {
                    "0": "47",
                    "1": "EM",
                    "2": "0",
                    "3": "NULL",
                    "4": "Andrew",
                    "5": "R",
                    "6": "Hill"
                },
                {
                    "0": "48",
                    "1": "EM",
                    "2": "0",
                    "3": "NULL",
                    "4": "Ruth",
                    "5": "Ann",
                    "6": "Ellerbrock"
                },
                {
                    "0": "49",
                    "1": "EM",
                    "2": "0",
                    "3": "NULL",
                    "4": "Barry",
                    "5": "K",
                    "6": "Johnson"
                },
                {
                    "0": "50",
                    "1": "EM",
                    "2": "0",
                    "3": "NULL",
                    "4": "Sidney",
                    "5": "M",
                    "6": "Higa"
                },
                {
                    "0": "51",
                    "1": "EM",
                    "2": "0",
                    "3": "NULL",
                    "4": "Jeffrey",
                    "5": "L",
                    "6": "Ford"
                },
                {
                    "0": "52",
                    "1": "EM",
                    "2": "0",
                    "3": "NULL",
                    "4": "Doris",
                    "5": "M",
                    "6": "Hartwig"
                },
                {
                    "0": "53",
                    "1": "EM",
                    "2": "0",
                    "3": "NULL",
                    "4": "Diane",
                    "5": "R",
                    "6": "Glimp"
                },
                {
                    "0": "54",
                    "1": "EM",
                    "2": "0",
                    "3": "NULL",
                    "4": "Bonnie",
                    "5": "N",
                    "6": "Kearney"
                },
                {
                    "0": "55",
                    "1": "EM",
                    "2": "0",
                    "3": "NULL",
                    "4": "Taylor",
                    "5": "R",
                    "6": "Maxwell"
                },
                {
                    "0": "56",
                    "1": "EM",
                    "2": "0",
                    "3": "NULL",
                    "4": "Denise",
                    "5": "H",
                    "6": "Smith"
                },
                {
                    "0": "57",
                    "1": "EM",
                    "2": "0",
                    "3": "NULL",
                    "4": "Frank",
                    "5": "T",
                    "6": "Miller"
                },
                {
                    "0": "58",
                    "1": "EM",
                    "2": "0",
                    "3": "NULL",
                    "4": "Kendall",
                    "5": "C",
                    "6": "Keil"
                },
                {
                    "0": "59",
                    "1": "EM",
                    "2": "0",
                    "3": "NULL",
                    "4": "Bob",
                    "5": "N",
                    "6": "Hohman"
                },
                {
                    "0": "60",
                    "1": "EM",
                    "2": "0",
                    "3": "NULL",
                    "4": "Pete",
                    "5": "C",
                    "6": "Male"
                },
                {
                    "0": "61",
                    "1": "EM",
                    "2": "0",
                    "3": "NULL",
                    "4": "Diane",
                    "5": "H",
                    "6": "Tibbott"
                },
                {
                    "0": "62",
                    "1": "EM",
                    "2": "0",
                    "3": "NULL",
                    "4": "John",
                    "5": "T",
                    "6": "Campbell"
                },
                {
                    "0": "63",
                    "1": "EM",
                    "2": "0",
                    "3": "NULL",
                    "4": "Maciej",
                    "5": "W",
                    "6": "Dusza"
                },
                {
                    "0": "64",
                    "1": "EM",
                    "2": "0",
                    "3": "NULL",
                    "4": "Michael",
                    "5": "J",
                    "6": "Zwilling"
                },
                {
                    "0": "65",
                    "1": "EM",
                    "2": "0",
                    "3": "NULL",
                    "4": "Randy",
                    "5": "T",
                    "6": "Reeves"
                },
                {
                    "0": "66",
                    "1": "EM",
                    "2": "0",
                    "3": "NULL",
                    "4": "Karan",
                    "5": "R",
                    "6": "Khanna"
                },
                {
                    "0": "67",
                    "1": "EM",
                    "2": "0",
                    "3": "NULL",
                    "4": "Jay",
                    "5": "G",
                    "6": "Adams"
                },
                {
                    "0": "68",
                    "1": "EM",
                    "2": "0",
                    "3": "NULL",
                    "4": "Charles",
                    "5": "B",
                    "6": "Fitzgerald"
                },
                {
                    "0": "69",
                    "1": "EM",
                    "2": "0",
                    "3": "NULL",
                    "4": "Steve",
                    "5": "F",
                    "6": "Masters"
                },
                {
                    "0": "70",
                    "1": "EM",
                    "2": "0",
                    "3": "NULL",
                    "4": "David",
                    "5": "J",
                    "6": "Ortiz"
                },
                {
                    "0": "71",
                    "1": "EM",
                    "2": "0",
                    "3": "NULL",
                    "4": "Michael",
                    "5": "Sean",
                    "6": "Ray"
                },
                {
                    "0": "72",
                    "1": "EM",
                    "2": "0",
                    "3": "NULL",
                    "4": "Steven",
                    "5": "T",
                    "6": "Selikoff"
                },
                {
                    "0": "73",
                    "1": "EM",
                    "2": "0",
                    "3": "NULL",
                    "4": "Carole",
                    "5": "M",
                    "6": "Poland"
                },
                {
                    "0": "74",
                    "1": "EM",
                    "2": "0",
                    "3": "NULL",
                    "4": "Bjorn",
                    "5": "M",
                    "6": "Rettig"
                },
                {
                    "0": "75",
                    "1": "EM",
                    "2": "0",
                    "3": "NULL",
                    "4": "Michiko",
                    "5": "F",
                    "6": "Osada"
                },
                {
                    "0": "76",
                    "1": "EM",
                    "2": "0",
                    "3": "NULL",
                    "4": "Carol",
                    "5": "M",
                    "6": "Philips"
                },
                {
                    "0": "77",
                    "1": "EM",
                    "2": "0",
                    "3": "NULL",
                    "4": "Merav",
                    "5": "A",
                    "6": "Netz"
                },
                {
                    "0": "78",
                    "1": "EM",
                    "2": "0",
                    "3": "NULL",
                    "4": "Reuben",
                    "5": "H",
                    "6": "D'sa"
                },
                {
                    "0": "79",
                    "1": "EM",
                    "2": "0",
                    "3": "NULL",
                    "4": "Eric",
                    "5": "L",
                    "6": "Brown"
                },
                {
                    "0": "80",
                    "1": "EM",
                    "2": "0",
                    "3": "NULL",
                    "4": "Sandeep",
                    "5": "P",
                    "6": "Kaliyath"
                },
                {
                    "0": "81",
                    "1": "EM",
                    "2": "0",
                    "3": "NULL",
                    "4": "Mihail",
                    "5": "U",
                    "6": "Frintu"
                },
                {
                    "0": "82",
                    "1": "EM",
                    "2": "0",
                    "3": "NULL",
                    "4": "Jack",
                    "5": "T",
                    "6": "Creasey"
                },
                {
                    "0": "83",
                    "1": "EM",
                    "2": "0",
                    "3": "NULL",
                    "4": "Patrick",
                    "5": "M",
                    "6": "Cook"
                },
                {
                    "0": "84",
                    "1": "EM",
                    "2": "0",
                    "3": "NULL",
                    "4": "Frank",
                    "5": "R",
                    "6": "Martinez"
                },
                {
                    "0": "85",
                    "1": "EM",
                    "2": "0",
                    "3": "NULL",
                    "4": "Brian",
                    "5": "Richard",
                    "6": "Goldstein"
                },
                {
                    "0": "86",
                    "1": "EM",
                    "2": "0",
                    "3": "NULL",
                    "4": "Ryan",
                    "5": "L",
                    "6": "Cornelsen"
                },
                {
                    "0": "87",
                    "1": "EM",
                    "2": "0",
                    "3": "NULL",
                    "4": "Cristian",
                    "5": "K",
                    "6": "Petculescu"
                },
                {
                    "0": "88",
                    "1": "EM",
                    "2": "0",
                    "3": "NULL",
                    "4": "Betsy",
                    "5": "A",
                    "6": "Stadick"
                },
                {
                    "0": "89",
                    "1": "EM",
                    "2": "0",
                    "3": "NULL",
                    "4": "Patrick",
                    "5": "C",
                    "6": "Wedge"
                },
                {
                    "0": "90",
                    "1": "EM",
                    "2": "0",
                    "3": "NULL",
                    "4": "Danielle",
                    "5": "C",
                    "6": "Tiedt"
                },
                {
                    "0": "91",
                    "1": "EM",
                    "2": "0",
                    "3": "NULL",
                    "4": "Kimberly",
                    "5": "B",
                    "6": "Zimmerman"
                },
                {
                    "0": "92",
                    "1": "EM",
                    "2": "0",
                    "3": "NULL",
                    "4": "Tom",
                    "5": "M",
                    "6": "Vande Velde"
                },
                {
                    "0": "93",
                    "1": "EM",
                    "2": "0",
                    "3": "NULL",
                    "4": "Kok-Ho",
                    "5": "T",
                    "6": "Loh"
                },
                {
                    "0": "94",
                    "1": "EM",
                    "2": "0",
                    "3": "NULL",
                    "4": "Russell",
                    "5": "NULL",
                    "6": "Hunter"
                },
                {
                    "0": "95",
                    "1": "EM",
                    "2": "0",
                    "3": "NULL",
                    "4": "Jim",
                    "5": "H",
                    "6": "Scardelis"
                },
                {
                    "0": "96",
                    "1": "EM",
                    "2": "0",
                    "3": "NULL",
                    "4": "Elizabeth",
                    "5": "I",
                    "6": "Keyser"
                },
                {
                    "0": "97",
                    "1": "EM",
                    "2": "0",
                    "3": "NULL",
                    "4": "Mandar",
                    "5": "H",
                    "6": "Samant"
                },
                {
                    "0": "98",
                    "1": "EM",
                    "2": "0",
                    "3": "NULL",
                    "4": "Sameer",
                    "5": "A",
                    "6": "Tejani"
                },
                {
                    "0": "99",
                    "1": "EM",
                    "2": "0",
                    "3": "NULL",
                    "4": "Nuan",
                    "5": "NULL",
                    "6": "Yu"
                },
                {
                    "0": "100",
                    "1": "EM",
                    "2": "0",
                    "3": "NULL",
                    "4": "Lolan",
                    "5": "B",
                    "6": "Song"
                }
            ]
        },
        "text/html": [
            "<table>",
            "<tr><th>BusinessEntityID</th><th>PersonType</th><th>NameStyle</th><th>Title</th><th>FirstName</th><th>MiddleName</th><th>LastName</th></tr>",
            "<tr><td>1</td><td>EM</td><td>0</td><td>NULL</td><td>Ken</td><td>J</td><td>Sánchez</td></tr>",
            "<tr><td>2</td><td>EM</td><td>0</td><td>NULL</td><td>Terri</td><td>Lee</td><td>Duffy</td></tr>",
            "<tr><td>3</td><td>EM</td><td>0</td><td>NULL</td><td>Roberto</td><td>NULL</td><td>Tamburello</td></tr>",
            "<tr><td>4</td><td>EM</td><td>0</td><td>NULL</td><td>Rob</td><td>NULL</td><td>Walters</td></tr>",
            "<tr><td>5</td><td>EM</td><td>0</td><td>Ms.</td><td>Gail</td><td>A</td><td>Erickson</td></tr>",
            "<tr><td>6</td><td>EM</td><td>0</td><td>Mr.</td><td>Jossef</td><td>H</td><td>Goldberg</td></tr>",
            "<tr><td>7</td><td>EM</td><td>0</td><td>NULL</td><td>Dylan</td><td>A</td><td>Miller</td></tr>",
            "<tr><td>8</td><td>EM</td><td>0</td><td>NULL</td><td>Diane</td><td>L</td><td>Margheim</td></tr>",
            "<tr><td>9</td><td>EM</td><td>0</td><td>NULL</td><td>Gigi</td><td>N</td><td>Matthew</td></tr>",
            "<tr><td>10</td><td>EM</td><td>0</td><td>NULL</td><td>Michael</td><td>NULL</td><td>Raheem</td></tr>",
            "<tr><td>11</td><td>EM</td><td>0</td><td>NULL</td><td>Ovidiu</td><td>V</td><td>Cracium</td></tr>",
            "<tr><td>12</td><td>EM</td><td>0</td><td>NULL</td><td>Thierry</td><td>B</td><td>D'Hers</td></tr>",
            "<tr><td>13</td><td>EM</td><td>0</td><td>Ms.</td><td>Janice</td><td>M</td><td>Galvin</td></tr>",
            "<tr><td>14</td><td>EM</td><td>0</td><td>NULL</td><td>Michael</td><td>I</td><td>Sullivan</td></tr>",
            "<tr><td>15</td><td>EM</td><td>0</td><td>NULL</td><td>Sharon</td><td>B</td><td>Salavaria</td></tr>",
            "<tr><td>16</td><td>EM</td><td>0</td><td>NULL</td><td>David</td><td>M</td><td>Bradley</td></tr>",
            "<tr><td>17</td><td>EM</td><td>0</td><td>NULL</td><td>Kevin</td><td>F</td><td>Brown</td></tr>",
            "<tr><td>18</td><td>EM</td><td>0</td><td>NULL</td><td>John</td><td>L</td><td>Wood</td></tr>",
            "<tr><td>19</td><td>EM</td><td>0</td><td>NULL</td><td>Mary</td><td>A</td><td>Dempsey</td></tr>",
            "<tr><td>20</td><td>EM</td><td>0</td><td>NULL</td><td>Wanida</td><td>M</td><td>Benshoof</td></tr>",
            "<tr><td>21</td><td>EM</td><td>0</td><td>NULL</td><td>Terry</td><td>J</td><td>Eminhizer</td></tr>",
            "<tr><td>22</td><td>EM</td><td>0</td><td>NULL</td><td>Sariya</td><td>E</td><td>Harnpadoungsataya</td></tr>",
            "<tr><td>23</td><td>EM</td><td>0</td><td>NULL</td><td>Mary</td><td>E</td><td>Gibson</td></tr>",
            "<tr><td>24</td><td>EM</td><td>0</td><td>Ms.</td><td>Jill</td><td>A</td><td>Williams</td></tr>",
            "<tr><td>25</td><td>EM</td><td>0</td><td>NULL</td><td>James</td><td>R</td><td>Hamilton</td></tr>",
            "<tr><td>26</td><td>EM</td><td>0</td><td>NULL</td><td>Peter</td><td>J</td><td>Krebs</td></tr>",
            "<tr><td>27</td><td>EM</td><td>0</td><td>NULL</td><td>Jo</td><td>A</td><td>Brown</td></tr>",
            "<tr><td>28</td><td>EM</td><td>0</td><td>NULL</td><td>Guy</td><td>R</td><td>Gilbert</td></tr>",
            "<tr><td>29</td><td>EM</td><td>0</td><td>NULL</td><td>Mark</td><td>K</td><td>McArthur</td></tr>",
            "<tr><td>30</td><td>EM</td><td>0</td><td>NULL</td><td>Britta</td><td>L</td><td>Simon</td></tr>",
            "<tr><td>31</td><td>EM</td><td>0</td><td>NULL</td><td>Margie</td><td>W</td><td>Shoop</td></tr>",
            "<tr><td>32</td><td>EM</td><td>0</td><td>NULL</td><td>Rebecca</td><td>A</td><td>Laszlo</td></tr>",
            "<tr><td>33</td><td>EM</td><td>0</td><td>NULL</td><td>Annik</td><td>O</td><td>Stahl</td></tr>",
            "<tr><td>34</td><td>EM</td><td>0</td><td>NULL</td><td>Suchitra</td><td>O</td><td>Mohan</td></tr>",
            "<tr><td>35</td><td>EM</td><td>0</td><td>NULL</td><td>Brandon</td><td>G</td><td>Heidepriem</td></tr>",
            "<tr><td>36</td><td>EM</td><td>0</td><td>NULL</td><td>Jose</td><td>R</td><td>Lugo</td></tr>",
            "<tr><td>37</td><td>EM</td><td>0</td><td>NULL</td><td>Chris</td><td>O</td><td>Okelberry</td></tr>",
            "<tr><td>38</td><td>EM</td><td>0</td><td>NULL</td><td>Kim</td><td>B</td><td>Abercrombie</td></tr>",
            "<tr><td>39</td><td>EM</td><td>0</td><td>NULL</td><td>Ed</td><td>R</td><td>Dudenhoefer</td></tr>",
            "<tr><td>40</td><td>EM</td><td>0</td><td>NULL</td><td>JoLynn</td><td>M</td><td>Dobney</td></tr>",
            "<tr><td>41</td><td>EM</td><td>0</td><td>NULL</td><td>Bryan</td><td>NULL</td><td>Baker</td></tr>",
            "<tr><td>42</td><td>EM</td><td>0</td><td>NULL</td><td>James</td><td>D</td><td>Kramer</td></tr>",
            "<tr><td>43</td><td>EM</td><td>0</td><td>NULL</td><td>Nancy</td><td>A</td><td>Anderson</td></tr>",
            "<tr><td>44</td><td>EM</td><td>0</td><td>NULL</td><td>Simon</td><td>D</td><td>Rapier</td></tr>",
            "<tr><td>45</td><td>EM</td><td>0</td><td>NULL</td><td>Thomas</td><td>R</td><td>Michaels</td></tr>",
            "<tr><td>46</td><td>EM</td><td>0</td><td>NULL</td><td>Eugene</td><td>O</td><td>Kogan</td></tr>",
            "<tr><td>47</td><td>EM</td><td>0</td><td>NULL</td><td>Andrew</td><td>R</td><td>Hill</td></tr>",
            "<tr><td>48</td><td>EM</td><td>0</td><td>NULL</td><td>Ruth</td><td>Ann</td><td>Ellerbrock</td></tr>",
            "<tr><td>49</td><td>EM</td><td>0</td><td>NULL</td><td>Barry</td><td>K</td><td>Johnson</td></tr>",
            "<tr><td>50</td><td>EM</td><td>0</td><td>NULL</td><td>Sidney</td><td>M</td><td>Higa</td></tr>",
            "<tr><td>51</td><td>EM</td><td>0</td><td>NULL</td><td>Jeffrey</td><td>L</td><td>Ford</td></tr>",
            "<tr><td>52</td><td>EM</td><td>0</td><td>NULL</td><td>Doris</td><td>M</td><td>Hartwig</td></tr>",
            "<tr><td>53</td><td>EM</td><td>0</td><td>NULL</td><td>Diane</td><td>R</td><td>Glimp</td></tr>",
            "<tr><td>54</td><td>EM</td><td>0</td><td>NULL</td><td>Bonnie</td><td>N</td><td>Kearney</td></tr>",
            "<tr><td>55</td><td>EM</td><td>0</td><td>NULL</td><td>Taylor</td><td>R</td><td>Maxwell</td></tr>",
            "<tr><td>56</td><td>EM</td><td>0</td><td>NULL</td><td>Denise</td><td>H</td><td>Smith</td></tr>",
            "<tr><td>57</td><td>EM</td><td>0</td><td>NULL</td><td>Frank</td><td>T</td><td>Miller</td></tr>",
            "<tr><td>58</td><td>EM</td><td>0</td><td>NULL</td><td>Kendall</td><td>C</td><td>Keil</td></tr>",
            "<tr><td>59</td><td>EM</td><td>0</td><td>NULL</td><td>Bob</td><td>N</td><td>Hohman</td></tr>",
            "<tr><td>60</td><td>EM</td><td>0</td><td>NULL</td><td>Pete</td><td>C</td><td>Male</td></tr>",
            "<tr><td>61</td><td>EM</td><td>0</td><td>NULL</td><td>Diane</td><td>H</td><td>Tibbott</td></tr>",
            "<tr><td>62</td><td>EM</td><td>0</td><td>NULL</td><td>John</td><td>T</td><td>Campbell</td></tr>",
            "<tr><td>63</td><td>EM</td><td>0</td><td>NULL</td><td>Maciej</td><td>W</td><td>Dusza</td></tr>",
            "<tr><td>64</td><td>EM</td><td>0</td><td>NULL</td><td>Michael</td><td>J</td><td>Zwilling</td></tr>",
            "<tr><td>65</td><td>EM</td><td>0</td><td>NULL</td><td>Randy</td><td>T</td><td>Reeves</td></tr>",
            "<tr><td>66</td><td>EM</td><td>0</td><td>NULL</td><td>Karan</td><td>R</td><td>Khanna</td></tr>",
            "<tr><td>67</td><td>EM</td><td>0</td><td>NULL</td><td>Jay</td><td>G</td><td>Adams</td></tr>",
            "<tr><td>68</td><td>EM</td><td>0</td><td>NULL</td><td>Charles</td><td>B</td><td>Fitzgerald</td></tr>",
            "<tr><td>69</td><td>EM</td><td>0</td><td>NULL</td><td>Steve</td><td>F</td><td>Masters</td></tr>",
            "<tr><td>70</td><td>EM</td><td>0</td><td>NULL</td><td>David</td><td>J</td><td>Ortiz</td></tr>",
            "<tr><td>71</td><td>EM</td><td>0</td><td>NULL</td><td>Michael</td><td>Sean</td><td>Ray</td></tr>",
            "<tr><td>72</td><td>EM</td><td>0</td><td>NULL</td><td>Steven</td><td>T</td><td>Selikoff</td></tr>",
            "<tr><td>73</td><td>EM</td><td>0</td><td>NULL</td><td>Carole</td><td>M</td><td>Poland</td></tr>",
            "<tr><td>74</td><td>EM</td><td>0</td><td>NULL</td><td>Bjorn</td><td>M</td><td>Rettig</td></tr>",
            "<tr><td>75</td><td>EM</td><td>0</td><td>NULL</td><td>Michiko</td><td>F</td><td>Osada</td></tr>",
            "<tr><td>76</td><td>EM</td><td>0</td><td>NULL</td><td>Carol</td><td>M</td><td>Philips</td></tr>",
            "<tr><td>77</td><td>EM</td><td>0</td><td>NULL</td><td>Merav</td><td>A</td><td>Netz</td></tr>",
            "<tr><td>78</td><td>EM</td><td>0</td><td>NULL</td><td>Reuben</td><td>H</td><td>D'sa</td></tr>",
            "<tr><td>79</td><td>EM</td><td>0</td><td>NULL</td><td>Eric</td><td>L</td><td>Brown</td></tr>",
            "<tr><td>80</td><td>EM</td><td>0</td><td>NULL</td><td>Sandeep</td><td>P</td><td>Kaliyath</td></tr>",
            "<tr><td>81</td><td>EM</td><td>0</td><td>NULL</td><td>Mihail</td><td>U</td><td>Frintu</td></tr>",
            "<tr><td>82</td><td>EM</td><td>0</td><td>NULL</td><td>Jack</td><td>T</td><td>Creasey</td></tr>",
            "<tr><td>83</td><td>EM</td><td>0</td><td>NULL</td><td>Patrick</td><td>M</td><td>Cook</td></tr>",
            "<tr><td>84</td><td>EM</td><td>0</td><td>NULL</td><td>Frank</td><td>R</td><td>Martinez</td></tr>",
            "<tr><td>85</td><td>EM</td><td>0</td><td>NULL</td><td>Brian</td><td>Richard</td><td>Goldstein</td></tr>",
            "<tr><td>86</td><td>EM</td><td>0</td><td>NULL</td><td>Ryan</td><td>L</td><td>Cornelsen</td></tr>",
            "<tr><td>87</td><td>EM</td><td>0</td><td>NULL</td><td>Cristian</td><td>K</td><td>Petculescu</td></tr>",
            "<tr><td>88</td><td>EM</td><td>0</td><td>NULL</td><td>Betsy</td><td>A</td><td>Stadick</td></tr>",
            "<tr><td>89</td><td>EM</td><td>0</td><td>NULL</td><td>Patrick</td><td>C</td><td>Wedge</td></tr>",
            "<tr><td>90</td><td>EM</td><td>0</td><td>NULL</td><td>Danielle</td><td>C</td><td>Tiedt</td></tr>",
            "<tr><td>91</td><td>EM</td><td>0</td><td>NULL</td><td>Kimberly</td><td>B</td><td>Zimmerman</td></tr>",
            "<tr><td>92</td><td>EM</td><td>0</td><td>NULL</td><td>Tom</td><td>M</td><td>Vande Velde</td></tr>",
            "<tr><td>93</td><td>EM</td><td>0</td><td>NULL</td><td>Kok-Ho</td><td>T</td><td>Loh</td></tr>",
            "<tr><td>94</td><td>EM</td><td>0</td><td>NULL</td><td>Russell</td><td>NULL</td><td>Hunter</td></tr>",
            "<tr><td>95</td><td>EM</td><td>0</td><td>NULL</td><td>Jim</td><td>H</td><td>Scardelis</td></tr>",
            "<tr><td>96</td><td>EM</td><td>0</td><td>NULL</td><td>Elizabeth</td><td>I</td><td>Keyser</td></tr>",
            "<tr><td>97</td><td>EM</td><td>0</td><td>NULL</td><td>Mandar</td><td>H</td><td>Samant</td></tr>",
            "<tr><td>98</td><td>EM</td><td>0</td><td>NULL</td><td>Sameer</td><td>A</td><td>Tejani</td></tr>",
            "<tr><td>99</td><td>EM</td><td>0</td><td>NULL</td><td>Nuan</td><td>NULL</td><td>Yu</td></tr>",
            "<tr><td>100</td><td>EM</td><td>0</td><td>NULL</td><td>Lolan</td><td>B</td><td>Song</td></tr>",
            "</table>"
        ]
    }
}
],
            "execution_count": null
        }
    ]
}